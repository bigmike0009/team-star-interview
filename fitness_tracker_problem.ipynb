{
 "cells": [
  {
   "cell_type": "markdown",
   "id": "594e30e4",
   "metadata": {},
   "source": [
    "# 🏋️‍♀️ Fitness Tracker Python Interview Challenge\n",
    "\n",
    "Welcome! You're given workout summary data from a fictional fitness tracker app. Your goal is to write Python code that extracts, standardizes, and analyzes this nested data structure.\n",
    "\n",
    "The purpose of the interview is to see your thought process and demonstrate a strong understanding of python data concepts and problem solving. You will not be required to compile or run the code, and you won't be graded on the final output. You can write in pseudo-code or use python documentation from the internet if you are having trouble remembering specific syntax.\n"
   ]
  },
  {
   "cell_type": "markdown",
   "id": "b1bad448",
   "metadata": {},
   "source": [
    "## 📦 Dataset\n"
   ]
  },
  {
   "cell_type": "code",
   "execution_count": null,
   "id": "912f84c4",
   "metadata": {},
   "outputs": [],
   "source": [
    "data = {\n",
    "    \"users\": [\n",
    "        {\n",
    "            \"id\": \"u001\",\n",
    "            \"name\": \"Alice\",\n",
    "            \"status\": \"active\",\n",
    "            \"workouts\": [\n",
    "                {\"day\": \"Mon\", \"minutes\": 30, \"calories\": \"250.5\"},\n",
    "                {\"day\": \"Wed\", \"minutes\": \"45\", \"calories\": 300},\n",
    "                {\"day\": \"Fri\", \"minutes\": 25.0, \"calories\": 200.2},\n",
    "            ]\n",
    "        },\n",
    "        {\n",
    "            \"id\": \"u002\",\n",
    "            \"name\": \"Bob\",\n",
    "            \"status\": \"inactive\",\n",
    "            \"workouts\": [\n",
    "                {\"day\": \"Tue\", \"minutes\": 20, \"calories\": \"180\"},\n",
    "                {\"day\": \"Thu\", \"minutes\": \"35\", \"calories\": 240.75}\n",
    "            ]\n",
    "        },\n",
    "        {\n",
    "            \"id\": \"u003\",\n",
    "            \"name\": \"Cara\",\n",
    "            \"status\": \"active\",\n",
    "            \"workouts\": []\n",
    "        },\n",
    "        {\n",
    "            \"id\": \"u004\",\n",
    "            \"name\": \"Dan\",\n",
    "            \"status\": \"active\",\n",
    "            \"workouts\": [\n",
    "                {\"day\": \"Mon\", \"minutes\": \"60\", \"calories\": \"480.0\"},\n",
    "                {\"day\": \"Wed\", \"minutes\": 55, \"calories\": 440.5},\n",
    "                {\"day\": \"Sat\", \"minutes\": \"40\", \"calories\": \"350.0\"},\n",
    "            ]\n",
    "        },\n",
    "        {\n",
    "            \"id\": \"u005\",\n",
    "            \"name\": \"Eva\",\n",
    "            \"status\": \"inactive\",\n",
    "            \"workouts\": []\n",
    "        }\n",
    "    ]\n",
    "}"
   ]
  },
  {
   "cell_type": "markdown",
   "id": "4cfa34d6",
   "metadata": {},
   "source": [
    "## 🔹 Part A: Data Access and Standardization\n",
    "\n",
    "Print:\n",
    "\n",
    "- The name of the second user\n",
    "- Number of workouts by the first user\n",
    "- Calories burned in the first workout of the second user\n"
   ]
  },
  {
   "cell_type": "code",
   "execution_count": null,
   "id": "531208d1",
   "metadata": {},
   "outputs": [],
   "source": [
    "def part_a_access_data(data):\n",
    "\n",
    "    # TODO: Print second user's name\n",
    "    # TODO: Print workout count for first user\n",
    "    # TODO: Print calories burned in first workout of second user\n",
    "\n",
    "    print(\"Second user's name:\", secondUserName)\n",
    "    print(\"Workout count (user 1):\", None)\n",
    "    print(\"Calories burned in first workout of user 2:\", None)\n",
    "    pass\n",
    "\n",
    "part_a_access_data(data)\n"
   ]
  },
  {
   "cell_type": "markdown",
   "id": "3c1ca744",
   "metadata": {},
   "source": [
    "## 🔹 Part B: Standardization & Aggregation\n",
    "\n",
    "Standardize the workouts so that:\n",
    "\n",
    "- `minutes` is an `int`\n",
    "- `calories` is a `float`\n",
    "\n",
    "Then write a function to return a dictionary like below\n",
    "\n",
    "```python\n",
    "{\n",
    "    \"Alice\": {\"total_minutes\": 100, \"avg_calories\": 250.23},\n",
    "    ...\n",
    "}\n",
    "```\n"
   ]
  },
  {
   "cell_type": "code",
   "execution_count": null,
   "id": "dc5ff7c6",
   "metadata": {},
   "outputs": [],
   "source": [
    "def part_b_standarize(data):\n",
    "    # TODO: convert minutes and calories to int and float respectively for all records\n",
    "    pass\n",
    "\n",
    "def part_b_aggregate(data):\n",
    "    # TODO: Sum total minutes and average calories per user\n",
    "    pass\n",
    "\n",
    "standardized_data = part_b_standarize(data)\n",
    "aggregated_data = part_b_aggregate(standardized_data)\n",
    "\n",
    "print(aggregated_data)"
   ]
  },
  {
   "cell_type": "markdown",
   "id": "edcd68b3",
   "metadata": {},
   "source": [
    "## 🔹 Part C: Conditional Aggregation (Active Users Only)\n",
    "\n",
    "Return same format as Part B, but only include users who are `'active'` and have at least one workout.\n"
   ]
  },
  {
   "cell_type": "code",
   "execution_count": null,
   "id": "808b5a43",
   "metadata": {},
   "outputs": [],
   "source": [
    "def part_c_active_users_only(data):\n",
    "    # TODO: Only include active users with at least one workout\n",
    "    pass\n"
   ]
  },
  {
   "cell_type": "markdown",
   "id": "122dfb39",
   "metadata": {},
   "source": [
    "## ⭐ Extra Credit: Pandas Analysis\n",
    "\n",
    "1. Convert the nested data into a pandas DataFrame where every row is a workout. Columns:\n",
    "   - `user_id`, `name`, `status`, `day`, `minutes`, `calories`\n",
    "2. Using pandas, re-solve:\n",
    "   - (a) Name of second user\n",
    "   - (b) Total minutes and avg calories per user\n",
    "   - (c) Same metrics for active users\n"
   ]
  },
  {
   "cell_type": "code",
   "execution_count": null,
   "id": "510319f7",
   "metadata": {},
   "outputs": [],
   "source": [
    "import pandas as pd\n",
    "\n",
    "def to_dataframe(data):\n",
    "    # TODO: Convert nested dict to flat DataFrame\n",
    "    pass\n",
    "\n",
    "def df_part_analysis(df):\n",
    "    # TODO: Solve a, b, c using DataFrame methods\n",
    "    pass"
   ]
  }
 ],
 "metadata": {
  "kernelspec": {
   "display_name": "Python 3",
   "language": "python",
   "name": "python3"
  },
  "language_info": {
   "name": "python",
   "version": "3.9.6"
  }
 },
 "nbformat": 4,
 "nbformat_minor": 5
}
