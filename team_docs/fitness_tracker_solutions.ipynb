{
 "cells": [
  {
   "cell_type": "markdown",
   "id": "fccac16e",
   "metadata": {},
   "source": [
    "# 🏋️‍♀️ Fitness Tracker Python Interview Challenge\n",
    "\n",
    "Welcome! You're given workout summary data from a fictional fitness tracker app. Your goal is to write Python code that extracts, standardizes, and analyzes this nested data structure.\n",
    "\n",
    "The purpose of the interview is to see your thought process and demonstrate a strong understanding of python data concepts and problem solving. You will not be graded on whether the code compiles or has the correct output.\n"
   ]
  },
  {
   "cell_type": "markdown",
   "id": "3e9bf29f",
   "metadata": {},
   "source": [
    "## 📦 Dataset\n"
   ]
  },
  {
   "cell_type": "code",
   "execution_count": null,
   "id": "70fc3f08",
   "metadata": {},
   "outputs": [
    {
     "ename": "",
     "evalue": "",
     "output_type": "error",
     "traceback": [
      "\u001b[1;31mRunning cells with 'Python 3.11.9' requires the ipykernel package.\n",
      "\u001b[1;31mInstall 'ipykernel' into the Python environment. \n",
      "\u001b[1;31mCommand: '/usr/local/bin/python3 -m pip install ipykernel -U --user --force-reinstall'"
     ]
    }
   ],
   "source": [
    "data = {\n",
    "    \"users\": [\n",
    "        {\n",
    "            \"id\": \"u001\",\n",
    "            \"name\": \"Alice\",\n",
    "            \"status\": \"active\",\n",
    "            \"workouts\": [\n",
    "                {\"day\": \"Mon\", \"minutes\": 30, \"calories\": \"250.5\"},\n",
    "                {\"day\": \"Wed\", \"minutes\": \"45\", \"calories\": 300},\n",
    "                {\"day\": \"Fri\", \"minutes\": 25.0, \"calories\": 200.2},\n",
    "            ]\n",
    "        },\n",
    "        {\n",
    "            \"id\": \"u002\",\n",
    "            \"name\": \"Bob\",\n",
    "            \"status\": \"inactive\",\n",
    "            \"workouts\": [\n",
    "                {\"day\": \"Tue\", \"minutes\": 20, \"calories\": \"180\"},\n",
    "                {\"day\": \"Thu\", \"minutes\": \"35\", \"calories\": 240.75}\n",
    "            ]\n",
    "        },\n",
    "        {\n",
    "            \"id\": \"u003\",\n",
    "            \"name\": \"Cara\",\n",
    "            \"status\": \"active\",\n",
    "            \"workouts\": []\n",
    "        },\n",
    "        {\n",
    "            \"id\": \"u004\",\n",
    "            \"name\": \"Dan\",\n",
    "            \"status\": \"active\",\n",
    "            \"workouts\": [\n",
    "                {\"day\": \"Mon\", \"minutes\": \"60\", \"calories\": \"480.0\"},\n",
    "                {\"day\": \"Wed\", \"minutes\": 55, \"calories\": 440.5},\n",
    "                {\"day\": \"Sat\", \"minutes\": \"40\", \"calories\": \"350.0\"},\n",
    "            ]\n",
    "        },\n",
    "        {\n",
    "            \"id\": \"u005\",\n",
    "            \"name\": \"Eva\",\n",
    "            \"status\": \"inactive\",\n",
    "            \"workouts\": []\n",
    "        }\n",
    "    ]\n",
    "}"
   ]
  },
  {
   "cell_type": "markdown",
   "id": "2d52ddba",
   "metadata": {},
   "source": [
    "## 🔹 Part A: Data Access and Standardization\n",
    "\n",
    "1. Print:\n",
    "\n",
    "   - The name of the second user\n",
    "   - Number of workouts by the first user\n",
    "   - Calories burned in the first workout of the second user\n",
    "\n",
    "2. Standardize the workouts so that:\n",
    "   - `minutes` is an `int`\n",
    "   - `calories` is a `float`\n"
   ]
  },
  {
   "cell_type": "code",
   "execution_count": null,
   "id": "e4b4bf95",
   "metadata": {},
   "outputs": [],
   "source": [
    "def part_a_access_data(data):\n",
    "    print(\"Second user's name:\", data[\"users\"][1][\"name\"])\n",
    "    print(\"Workout count (user 1):\", len(data[\"users\"][0][\"workouts\"]))\n",
    "    print(\"Calories burned in first workout of user 2:\", float(data[\"users\"][1][\"workouts\"][0][\"calories\"]))"
   ]
  },
  {
   "cell_type": "markdown",
   "id": "be62b911",
   "metadata": {},
   "source": [
    "## 🔹 Part B: Aggregation\n",
    "\n",
    "Write a function to return a dictionary:\n",
    "\n",
    "```python\n",
    "{\n",
    "    \"Alice\": {\"total_minutes\": 100, \"avg_calories\": 250.23},\n",
    "    ...\n",
    "}\n",
    "```\n"
   ]
  },
  {
   "cell_type": "code",
   "execution_count": null,
   "id": "7a14ee90",
   "metadata": {},
   "outputs": [],
   "source": [
    "def part_b_standardize_workouts(data):\n",
    "    for user in data[\"users\"]:\n",
    "        for workout in user[\"workouts\"]:\n",
    "            workout[\"minutes\"] = int(workout[\"minutes\"])\n",
    "            workout[\"calories\"] = float(workout[\"calories\"])"
   ]
  },
  {
   "cell_type": "code",
   "execution_count": null,
   "id": "8e30ff00",
   "metadata": {},
   "outputs": [],
   "source": [
    "def part_b_aggregate(data):\n",
    "    result = {}\n",
    "    for user in data[\"users\"]:\n",
    "        name = user[\"name\"]\n",
    "        workouts = user[\"workouts\"]\n",
    "        if workouts:\n",
    "            total_minutes = sum(int(w[\"minutes\"]) for w in workouts)\n",
    "            avg_calories = sum(float(w[\"calories\"]) for w in workouts) / len(workouts)\n",
    "        else:\n",
    "            total_minutes = 0\n",
    "            avg_calories = 0.0\n",
    "        result[name] = {\n",
    "            \"total_minutes\": total_minutes,\n",
    "            \"avg_calories\": round(avg_calories, 2)\n",
    "        }\n",
    "    return result"
   ]
  },
  {
   "cell_type": "markdown",
   "id": "ec303495",
   "metadata": {},
   "source": [
    "## 🔹 Part C: Conditional Aggregation (Active Users Only)\n",
    "\n",
    "Return same format as Part B, but only include users who are `'active'` and have at least one workout.\n"
   ]
  },
  {
   "cell_type": "code",
   "execution_count": null,
   "id": "613bd519",
   "metadata": {},
   "outputs": [],
   "source": [
    "def part_c_active_users_only(data):\n",
    "    result = {}\n",
    "    for user in data[\"users\"]:\n",
    "        if user[\"status\"] != \"active\" or not user[\"workouts\"]:\n",
    "            continue\n",
    "        name = user[\"name\"]\n",
    "        workouts = user[\"workouts\"]\n",
    "        total_minutes = sum(int(w[\"minutes\"]) for w in workouts)\n",
    "        avg_calories = sum(float(w[\"calories\"]) for w in workouts) / len(workouts)\n",
    "        result[name] = {\n",
    "            \"total_minutes\": total_minutes,\n",
    "            \"avg_calories\": round(avg_calories, 2)\n",
    "        }\n",
    "    return result"
   ]
  },
  {
   "cell_type": "markdown",
   "id": "bb39bbfa",
   "metadata": {},
   "source": [
    "## ⭐ Extra Credit: Pandas Analysis\n",
    "\n",
    "1. Convert the nested data into a pandas DataFrame with columns:\n",
    "   - `user_id`, `name`, `status`, `day`, `minutes`, `calories`\n",
    "2. Using pandas, re-solve:\n",
    "   - (a) Name of second user, workout count of first\n",
    "   - (b) Total minutes and avg calories per user\n",
    "   - (c) Same metrics for active users\n"
   ]
  },
  {
   "cell_type": "code",
   "execution_count": null,
   "id": "05d3116b",
   "metadata": {},
   "outputs": [],
   "source": [
    "import pandas as pd\n",
    "\n",
    "def to_dataframe(data):\n",
    "    records = []\n",
    "    for user in data[\"users\"]:\n",
    "        for workout in user[\"workouts\"]:\n",
    "            records.append({\n",
    "                \"user_id\": user[\"id\"],\n",
    "                \"name\": user[\"name\"],\n",
    "                \"status\": user[\"status\"],\n",
    "                \"day\": workout[\"day\"],\n",
    "                \"minutes\": int(workout[\"minutes\"]),\n",
    "                \"calories\": float(workout[\"calories\"])\n",
    "            })\n",
    "    return pd.DataFrame(records)\n",
    "\n",
    "def df_part_analysis(df):\n",
    "    # a\n",
    "    second_user = df[\"name\"].unique()[1]\n",
    "    first_user = df[\"name\"].unique()[0]\n",
    "    count_first = df[df[\"name\"] == first_user].shape[0]\n",
    "\n",
    "    # b\n",
    "    group = df.groupby(\"name\").agg(\n",
    "        total_minutes=(\"minutes\", \"sum\"),\n",
    "        avg_calories=(\"calories\", \"mean\")\n",
    "    )\n",
    "\n",
    "    # c\n",
    "    active_df = df[df[\"status\"] == \"active\"]\n",
    "    active_group = active_df.groupby(\"name\").agg(\n",
    "        total_minutes=(\"minutes\", \"sum\"),\n",
    "        avg_calories=(\"calories\", \"mean\")\n",
    "    )\n",
    "\n",
    "    return {\n",
    "        \"a\": (second_user, count_first),\n",
    "        \"b\": group,\n",
    "        \"c\": active_group\n",
    "    }"
   ]
  }
 ],
 "metadata": {
  "kernelspec": {
   "display_name": "Python 3",
   "language": "python",
   "name": "python3"
  },
  "language_info": {
   "name": "python",
   "version": "3.11.9"
  }
 },
 "nbformat": 4,
 "nbformat_minor": 5
}
